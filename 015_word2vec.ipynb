{
 "cells": [
  {
   "cell_type": "markdown",
   "metadata": {
    "id": "P-GRFNX7b6ci"
   },
   "source": [
    "# 015. word2vec 작성\n",
    "\n",
    "- skipgram 방식을 이용하여 window size 2의 simplified word2vec model 작성\n",
    "- embedding layer의 차원은 2로 하여 시각화 가능하도록 한다."
   ]
  },
  {
   "cell_type": "code",
   "execution_count": 1,
   "metadata": {
    "id": "g5Dt6cnZb6ck"
   },
   "outputs": [],
   "source": [
    "import tensorflow as tf\n",
    "from tensorflow.keras.models import Sequential\n",
    "from tensorflow.keras.layers import Dense, Activation\n",
    "from tensorflow.keras.utils import to_categorical\n",
    "import numpy as np\n",
    "import pandas as pd\n",
    "import matplotlib.pyplot as plt\n",
    "import re"
   ]
  },
  {
   "cell_type": "markdown",
   "metadata": {
    "id": "siVuUZ78b6cl"
   },
   "source": [
    "### Toy 말뭉치"
   ]
  },
  {
   "cell_type": "code",
   "execution_count": 2,
   "metadata": {
    "id": "7aq85IPqb6cm"
   },
   "outputs": [],
   "source": [
    "corpus = ['King is a very strong man.', \n",
    "          'Queen is a wise and pretty woman.', \n",
    "          'Boy is a young man.',\n",
    "          'Girl is a young and pretty woman.',\n",
    "          'Prince is young and will be a strong and wise king!!',\n",
    "          'Princess is a young woman, and will be a pretty and wise queen.',\n",
    "          'Man is strong.', \n",
    "          'Woman is pretty.',\n",
    "          'Prince is a boy will be a king.',\n",
    "          'Princess is a girl will be a queen.']"
   ]
  },
  {
   "cell_type": "code",
   "execution_count": 3,
   "metadata": {
    "colab": {
     "base_uri": "https://localhost:8080/"
    },
    "id": "99QG7uy0cU-3",
    "outputId": "7b5deafd-5453-4453-84e3-912de9281651"
   },
   "outputs": [
    {
     "data": {
      "text/plain": [
       "['king is a very strong man',\n",
       " 'queen is a wise and pretty woman',\n",
       " 'boy is a young man',\n",
       " 'girl is a young and pretty woman',\n",
       " 'prince is young and will be a strong and wise king',\n",
       " 'princess is a young woman and will be a pretty and wise queen',\n",
       " 'man is strong',\n",
       " 'woman is pretty',\n",
       " 'prince is a boy will be a king',\n",
       " 'princess is a girl will be a queen']"
      ]
     },
     "execution_count": 3,
     "metadata": {},
     "output_type": "execute_result"
    }
   ],
   "source": [
    "cleaned_corpus = []\n",
    "for text in corpus:\n",
    "    text = re.sub(r'[^a-zA-Z ]', '', text)  \n",
    "    cleaned_corpus.append(text.lower())\n",
    "            \n",
    "cleaned_corpus"
   ]
  },
  {
   "cell_type": "code",
   "execution_count": 4,
   "metadata": {
    "id": "gYag9WYrb6cn"
   },
   "outputs": [
    {
     "data": {
      "text/plain": [
       "['king very strong man',\n",
       " 'queen wise and pretty woman',\n",
       " 'boy young man',\n",
       " 'girl young and pretty woman',\n",
       " 'prince young and be strong and wise king',\n",
       " 'princess young woman and be pretty and wise queen',\n",
       " 'man strong',\n",
       " 'woman pretty',\n",
       " 'prince boy be king',\n",
       " 'princess girl be queen']"
      ]
     },
     "execution_count": 4,
     "metadata": {},
     "output_type": "execute_result"
    }
   ],
   "source": [
    "stop_words = ['is', 'a' ,'will']\n",
    "\n",
    "result_corpus = []\n",
    "    \n",
    "for text in cleaned_corpus:\n",
    "    tmp = []\n",
    "    for word in text.split():\n",
    "        if word not in stop_words:\n",
    "            tmp.append(word)\n",
    "    result_corpus.append(' '.join(tmp))\n",
    "    \n",
    "result_corpus"
   ]
  },
  {
   "cell_type": "markdown",
   "metadata": {
    "id": "8R3AZLqEb6co"
   },
   "source": [
    "### vocaburary 모음 작성"
   ]
  },
  {
   "cell_type": "code",
   "execution_count": 5,
   "metadata": {
    "id": "WWEw8Micb6co"
   },
   "outputs": [
    {
     "data": {
      "text/plain": [
       "{'and',\n",
       " 'be',\n",
       " 'boy',\n",
       " 'girl',\n",
       " 'king',\n",
       " 'man',\n",
       " 'pretty',\n",
       " 'prince',\n",
       " 'princess',\n",
       " 'queen',\n",
       " 'strong',\n",
       " 'very',\n",
       " 'wise',\n",
       " 'woman',\n",
       " 'young'}"
      ]
     },
     "execution_count": 5,
     "metadata": {},
     "output_type": "execute_result"
    }
   ],
   "source": [
    "words = []\n",
    "\n",
    "for sentence in result_corpus:\n",
    "    for word in sentence.split(' '):\n",
    "        words.append(word)\n",
    "\n",
    "words = set(words)\n",
    "words"
   ]
  },
  {
   "cell_type": "markdown",
   "metadata": {
    "id": "cfguhBBTb6cp"
   },
   "source": [
    "### word-to-index, index-to-word 작성\n",
    "\n",
    "- word 를 index 로 변환  \n",
    "\n",
    "- sentence 를 word index 로 변환  \n",
    "\n",
    "- window size 에 따라 train data 생성"
   ]
  },
  {
   "cell_type": "code",
   "execution_count": 6,
   "metadata": {
    "id": "QaqoG6bDb6cp"
   },
   "outputs": [],
   "source": [
    "word2index = dict((w, i) for i, w in enumerate(words))\n",
    "index2word = dict((i, w) for i, w in enumerate(words))"
   ]
  },
  {
   "cell_type": "code",
   "execution_count": 7,
   "metadata": {
    "colab": {
     "base_uri": "https://localhost:8080/"
    },
    "id": "gMSkIAFHb6cp",
    "outputId": "ffeb4710-8d72-4f1e-8858-e7def8e2335a"
   },
   "outputs": [
    {
     "data": {
      "text/plain": [
       "{'woman': 0,\n",
       " 'boy': 1,\n",
       " 'young': 2,\n",
       " 'and': 3,\n",
       " 'princess': 4,\n",
       " 'wise': 5,\n",
       " 'king': 6,\n",
       " 'queen': 7,\n",
       " 'very': 8,\n",
       " 'man': 9,\n",
       " 'pretty': 10,\n",
       " 'strong': 11,\n",
       " 'prince': 12,\n",
       " 'be': 13,\n",
       " 'girl': 14}"
      ]
     },
     "execution_count": 7,
     "metadata": {},
     "output_type": "execute_result"
    }
   ],
   "source": [
    "word2index"
   ]
  },
  {
   "cell_type": "markdown",
   "metadata": {
    "id": "5twfy1gIb6cq"
   },
   "source": [
    "### skip-gram 으로 training data 생성\n",
    "\n",
    "- 중심 단어로 주변 단어를 예측\n",
    "\n",
    "<img src=\"https://blog.kakaocdn.net/dn/2Qj2I/btrb7zSiErG/fxZChADnf1iQ7zCx43W5o0/img.png\" width=400 />"
   ]
  },
  {
   "cell_type": "code",
   "execution_count": 8,
   "metadata": {
    "colab": {
     "base_uri": "https://localhost:8080/"
    },
    "id": "g1gTe8VBb6cq",
    "outputId": "32f01c27-d023-476b-ffc5-7851e84a942c"
   },
   "outputs": [
    {
     "data": {
      "text/plain": [
       "[['king', 'very', 'strong', 'man'],\n",
       " ['queen', 'wise', 'and', 'pretty', 'woman'],\n",
       " ['boy', 'young', 'man'],\n",
       " ['girl', 'young', 'and', 'pretty', 'woman']]"
      ]
     },
     "execution_count": 8,
     "metadata": {},
     "output_type": "execute_result"
    }
   ],
   "source": [
    "sentences = []\n",
    "for sentence in result_corpus:\n",
    "    sentences.append(sentence.split())\n",
    "sentences[:4]"
   ]
  },
  {
   "cell_type": "markdown",
   "metadata": {},
   "source": [
    "```\n",
    "['king', 'very', 'strong', 'man'] 의 경우 WINDOW_SIZE 를 2 로 하면,\n",
    "\n",
    "['king', 'very'], ['king', 'strong'], \n",
    "['very', 'king'], ['very', 'strong'], ['very', 'man'], \n",
    "['strong', 'king'], ['strong', 'very'], ['strong', 'man'], \n",
    "['man', 'very'], ['man', 'strong']\n",
    "\n",
    "의 형태로 data를 만든다. 즉, 각 단어의 앞쪽 2 개 단어와 뒷쪽 2 개 단어를 중심단어와 pair 가 되도록 한다.\n",
    "\n",
    "(중심단어 index)-2 가 0 보다 작으면 안되고, (중심단어 index)+2 가 sentence 길이보다 길면 안되므로 범위를 다음과 같이 지정한다.\n",
    "[max(idx - WINDOW_SIZE, 0) : min(idx + WINDOW_SIZE, len(sentence)) + 1] \n",
    "```"
   ]
  },
  {
   "cell_type": "code",
   "execution_count": 9,
   "metadata": {
    "id": "1LmNKgM0b6cq"
   },
   "outputs": [],
   "source": [
    "WINDOW_SIZE = 2\n",
    "\n",
    "data = []\n",
    "for sentence in sentences:\n",
    "    for idx, word in enumerate(sentence):\n",
    "        for neighbor in sentence[max(idx - WINDOW_SIZE, 0) : min(idx + WINDOW_SIZE, len(sentence)) + 1] : \n",
    "            if neighbor != word:\n",
    "                data.append([word, neighbor])"
   ]
  },
  {
   "cell_type": "code",
   "execution_count": 10,
   "metadata": {
    "colab": {
     "base_uri": "https://localhost:8080/"
    },
    "id": "p5Gm4AkWb6cr",
    "outputId": "2cc7f22b-a0db-4484-f029-c34a05b1f530"
   },
   "outputs": [
    {
     "name": "stdout",
     "output_type": "stream",
     "text": [
      "[['king', 'very'], ['king', 'strong'], ['very', 'king'], ['very', 'strong'], ['very', 'man'], ['strong', 'king'], ['strong', 'very'], ['strong', 'man'], ['man', 'very'], ['man', 'strong'], ['queen', 'wise'], ['queen', 'and'], ['wise', 'queen'], ['wise', 'and'], ['wise', 'pretty']]\n"
     ]
    }
   ],
   "source": [
    "print(data[:15])"
   ]
  },
  {
   "cell_type": "code",
   "execution_count": 11,
   "metadata": {
    "colab": {
     "base_uri": "https://localhost:8080/",
     "height": 206
    },
    "id": "yifvlI1hb6cr",
    "outputId": "7459bea6-579c-4925-cc23-606e8fa8dfb3"
   },
   "outputs": [
    {
     "data": {
      "text/html": [
       "<div>\n",
       "<style scoped>\n",
       "    .dataframe tbody tr th:only-of-type {\n",
       "        vertical-align: middle;\n",
       "    }\n",
       "\n",
       "    .dataframe tbody tr th {\n",
       "        vertical-align: top;\n",
       "    }\n",
       "\n",
       "    .dataframe thead th {\n",
       "        text-align: right;\n",
       "    }\n",
       "</style>\n",
       "<table border=\"1\" class=\"dataframe\">\n",
       "  <thead>\n",
       "    <tr style=\"text-align: right;\">\n",
       "      <th></th>\n",
       "      <th>input</th>\n",
       "      <th>label</th>\n",
       "    </tr>\n",
       "  </thead>\n",
       "  <tbody>\n",
       "    <tr>\n",
       "      <th>0</th>\n",
       "      <td>king</td>\n",
       "      <td>very</td>\n",
       "    </tr>\n",
       "    <tr>\n",
       "      <th>1</th>\n",
       "      <td>king</td>\n",
       "      <td>strong</td>\n",
       "    </tr>\n",
       "    <tr>\n",
       "      <th>2</th>\n",
       "      <td>very</td>\n",
       "      <td>king</td>\n",
       "    </tr>\n",
       "    <tr>\n",
       "      <th>3</th>\n",
       "      <td>very</td>\n",
       "      <td>strong</td>\n",
       "    </tr>\n",
       "    <tr>\n",
       "      <th>4</th>\n",
       "      <td>very</td>\n",
       "      <td>man</td>\n",
       "    </tr>\n",
       "  </tbody>\n",
       "</table>\n",
       "</div>"
      ],
      "text/plain": [
       "  input   label\n",
       "0  king    very\n",
       "1  king  strong\n",
       "2  very    king\n",
       "3  very  strong\n",
       "4  very     man"
      ]
     },
     "execution_count": 11,
     "metadata": {},
     "output_type": "execute_result"
    }
   ],
   "source": [
    "df = pd.DataFrame(data, columns = ['input', 'label'])\n",
    "df.head()"
   ]
  },
  {
   "cell_type": "markdown",
   "metadata": {
    "id": "hGa4sgTWb6cs"
   },
   "source": [
    "### One hot encoding 된 train, label data"
   ]
  },
  {
   "cell_type": "code",
   "execution_count": 12,
   "metadata": {
    "id": "zfnXB5pTb6cs"
   },
   "outputs": [],
   "source": [
    "X = [] # input word\n",
    "Y = [] # target word\n",
    "\n",
    "for x, y in zip(df['input'], df['label']):\n",
    "    X.append(to_categorical(word2index[x], len(word2index)))\n",
    "    Y.append(to_categorical(word2index[x],  len(word2index)))"
   ]
  },
  {
   "cell_type": "code",
   "execution_count": 13,
   "metadata": {
    "colab": {
     "base_uri": "https://localhost:8080/"
    },
    "id": "yg7eCP5Zb6ct",
    "outputId": "670f38d6-b2e7-46d8-f45c-383d0ea6a107"
   },
   "outputs": [
    {
     "name": "stdout",
     "output_type": "stream",
     "text": [
      "[0. 0. 0. 0. 0. 0. 1. 0. 0. 0. 0. 0. 0. 0. 0.]\n",
      "[0. 0. 0. 0. 0. 0. 1. 0. 0. 0. 0. 0. 0. 0. 0.]\n"
     ]
    }
   ],
   "source": [
    "print(X[0])\n",
    "print(Y[0])"
   ]
  },
  {
   "cell_type": "code",
   "execution_count": 14,
   "metadata": {
    "id": "SOoliOneb6ct"
   },
   "outputs": [],
   "source": [
    "# convert them to numpy arrays\n",
    "X_train = np.array(X)\n",
    "Y_train = np.array(Y)"
   ]
  },
  {
   "cell_type": "markdown",
   "metadata": {
    "id": "BXo_-FQ6b6ct"
   },
   "source": [
    "**시각화를 위해 hidden layer 의 unit 을 2 로 제한**"
   ]
  },
  {
   "cell_type": "code",
   "execution_count": 15,
   "metadata": {
    "id": "x5LTgXhMb6ct"
   },
   "outputs": [],
   "source": [
    "model = Sequential()\n",
    "model.add(Dense(2, input_dim=len(word2index)))\n",
    "model.add(Dense(len(word2index), activation='softmax'))\n",
    "\n",
    "model.compile(loss=\"categorical_crossentropy\", optimizer='adam', metrics=['accuracy'])"
   ]
  },
  {
   "cell_type": "code",
   "execution_count": 16,
   "metadata": {
    "colab": {
     "base_uri": "https://localhost:8080/"
    },
    "id": "9FTjRtTAb6cu",
    "outputId": "6171fab2-3fff-4158-eb2e-4712750d9a38",
    "scrolled": true
   },
   "outputs": [
    {
     "name": "stdout",
     "output_type": "stream",
     "text": [
      "Epoch 1/50\n",
      "42/42 [==============================] - 0s 1ms/step - loss: 2.8234 - accuracy: 0.0645 \n",
      "Epoch 2/50\n",
      "42/42 [==============================] - 0s 1000us/step - loss: 2.7872 - accuracy: 0.0403\n",
      "Epoch 3/50\n",
      "42/42 [==============================] - 0s 1000us/step - loss: 2.7530 - accuracy: 0.0403\n",
      "Epoch 4/50\n",
      "42/42 [==============================] - 0s 1ms/step - loss: 2.7209 - accuracy: 0.0403\n",
      "Epoch 5/50\n",
      "42/42 [==============================] - 0s 1ms/step - loss: 2.6898 - accuracy: 0.0403\n",
      "Epoch 6/50\n",
      "42/42 [==============================] - 0s 1ms/step - loss: 2.6587 - accuracy: 0.0403\n",
      "Epoch 7/50\n",
      "42/42 [==============================] - 0s 976us/step - loss: 2.6287 - accuracy: 0.0403\n",
      "Epoch 8/50\n",
      "42/42 [==============================] - 0s 902us/step - loss: 2.5985 - accuracy: 0.1532\n",
      "Epoch 9/50\n",
      "42/42 [==============================] - 0s 854us/step - loss: 2.5691 - accuracy: 0.1532\n",
      "Epoch 10/50\n",
      "42/42 [==============================] - 0s 902us/step - loss: 2.5391 - accuracy: 0.1532\n",
      "Epoch 11/50\n",
      "42/42 [==============================] - 0s 1ms/step - loss: 2.5094 - accuracy: 0.2903\n",
      "Epoch 12/50\n",
      "42/42 [==============================] - 0s 854us/step - loss: 2.4797 - accuracy: 0.3468\n",
      "Epoch 13/50\n",
      "42/42 [==============================] - 0s 951us/step - loss: 2.4500 - accuracy: 0.3468\n",
      "Epoch 14/50\n",
      "42/42 [==============================] - 0s 951us/step - loss: 2.4199 - accuracy: 0.3468\n",
      "Epoch 15/50\n",
      "42/42 [==============================] - 0s 878us/step - loss: 2.3901 - accuracy: 0.3468\n",
      "Epoch 16/50\n",
      "42/42 [==============================] - 0s 878us/step - loss: 2.3604 - accuracy: 0.3387\n",
      "Epoch 17/50\n",
      "42/42 [==============================] - 0s 951us/step - loss: 2.3305 - accuracy: 0.3065\n",
      "Epoch 18/50\n",
      "42/42 [==============================] - 0s 878us/step - loss: 2.3001 - accuracy: 0.3065\n",
      "Epoch 19/50\n",
      "42/42 [==============================] - 0s 927us/step - loss: 2.2701 - accuracy: 0.3065\n",
      "Epoch 20/50\n",
      "42/42 [==============================] - 0s 854us/step - loss: 2.2403 - accuracy: 0.3065\n",
      "Epoch 21/50\n",
      "42/42 [==============================] - 0s 854us/step - loss: 2.2094 - accuracy: 0.3952\n",
      "Epoch 22/50\n",
      "42/42 [==============================] - 0s 951us/step - loss: 2.1797 - accuracy: 0.3952\n",
      "Epoch 23/50\n",
      "42/42 [==============================] - 0s 903us/step - loss: 2.1500 - accuracy: 0.3952\n",
      "Epoch 24/50\n",
      "42/42 [==============================] - 0s 878us/step - loss: 2.1202 - accuracy: 0.3952\n",
      "Epoch 25/50\n",
      "42/42 [==============================] - 0s 854us/step - loss: 2.0907 - accuracy: 0.4274\n",
      "Epoch 26/50\n",
      "42/42 [==============================] - 0s 854us/step - loss: 2.0592 - accuracy: 0.4839\n",
      "Epoch 27/50\n",
      "42/42 [==============================] - 0s 805us/step - loss: 2.0285 - accuracy: 0.4839\n",
      "Epoch 28/50\n",
      "42/42 [==============================] - 0s 878us/step - loss: 1.9996 - accuracy: 0.4839\n",
      "Epoch 29/50\n",
      "42/42 [==============================] - 0s 878us/step - loss: 1.9700 - accuracy: 0.4839\n",
      "Epoch 30/50\n",
      "42/42 [==============================] - 0s 927us/step - loss: 1.9397 - accuracy: 0.4839\n",
      "Epoch 31/50\n",
      "42/42 [==============================] - 0s 927us/step - loss: 1.9098 - accuracy: 0.4839\n",
      "Epoch 32/50\n",
      "42/42 [==============================] - 0s 854us/step - loss: 1.8813 - accuracy: 0.4839\n",
      "Epoch 33/50\n",
      "42/42 [==============================] - 0s 853us/step - loss: 1.8522 - accuracy: 0.4839\n",
      "Epoch 34/50\n",
      "42/42 [==============================] - 0s 805us/step - loss: 1.8249 - accuracy: 0.4839\n",
      "Epoch 35/50\n",
      "42/42 [==============================] - 0s 878us/step - loss: 1.7970 - accuracy: 0.4839\n",
      "Epoch 36/50\n",
      "42/42 [==============================] - 0s 1ms/step - loss: 1.7715 - accuracy: 0.4839\n",
      "Epoch 37/50\n",
      "42/42 [==============================] - 0s 854us/step - loss: 1.7435 - accuracy: 0.4839\n",
      "Epoch 38/50\n",
      "42/42 [==============================] - 0s 903us/step - loss: 1.7182 - accuracy: 0.4839\n",
      "Epoch 39/50\n",
      "42/42 [==============================] - 0s 854us/step - loss: 1.6928 - accuracy: 0.4839\n",
      "Epoch 40/50\n",
      "42/42 [==============================] - 0s 878us/step - loss: 1.6687 - accuracy: 0.4839\n",
      "Epoch 41/50\n",
      "42/42 [==============================] - 0s 927us/step - loss: 1.6457 - accuracy: 0.4839\n",
      "Epoch 42/50\n",
      "42/42 [==============================] - 0s 902us/step - loss: 1.6230 - accuracy: 0.4839\n",
      "Epoch 43/50\n",
      "42/42 [==============================] - 0s 927us/step - loss: 1.6020 - accuracy: 0.4839\n",
      "Epoch 44/50\n",
      "42/42 [==============================] - 0s 927us/step - loss: 1.5811 - accuracy: 0.4839\n",
      "Epoch 45/50\n",
      "42/42 [==============================] - 0s 902us/step - loss: 1.5613 - accuracy: 0.4839\n",
      "Epoch 46/50\n",
      "42/42 [==============================] - 0s 902us/step - loss: 1.5409 - accuracy: 0.4839\n",
      "Epoch 47/50\n",
      "42/42 [==============================] - 0s 805us/step - loss: 1.5240 - accuracy: 0.4839\n",
      "Epoch 48/50\n",
      "42/42 [==============================] - 0s 951us/step - loss: 1.5059 - accuracy: 0.4839\n",
      "Epoch 49/50\n",
      "42/42 [==============================] - 0s 878us/step - loss: 1.4888 - accuracy: 0.4839\n",
      "Epoch 50/50\n",
      "42/42 [==============================] - 0s 878us/step - loss: 1.4727 - accuracy: 0.4839\n"
     ]
    },
    {
     "data": {
      "text/plain": [
       "<tensorflow.python.keras.callbacks.History at 0x1e7bca1a1c0>"
      ]
     },
     "execution_count": 16,
     "metadata": {},
     "output_type": "execute_result"
    }
   ],
   "source": [
    "model.fit(X_train, Y_train, epochs=50, batch_size=3)"
   ]
  },
  {
   "cell_type": "markdown",
   "metadata": {
    "id": "BoOLyKbJb6cu"
   },
   "source": [
    "### 첫번째 Hidden Layer 추출 및 weight + bias 를 vector 로 합산"
   ]
  },
  {
   "cell_type": "code",
   "execution_count": 17,
   "metadata": {
    "colab": {
     "base_uri": "https://localhost:8080/"
    },
    "id": "UPSuqqoub6cu",
    "outputId": "2e3c78d6-d99e-4ddb-9714-ad8f57278f77"
   },
   "outputs": [
    {
     "name": "stdout",
     "output_type": "stream",
     "text": [
      "Model: \"sequential\"\n",
      "_________________________________________________________________\n",
      "Layer (type)                 Output Shape              Param #   \n",
      "=================================================================\n",
      "dense (Dense)                (None, 2)                 32        \n",
      "_________________________________________________________________\n",
      "dense_1 (Dense)              (None, 15)                45        \n",
      "=================================================================\n",
      "Total params: 77\n",
      "Trainable params: 77\n",
      "Non-trainable params: 0\n",
      "_________________________________________________________________\n"
     ]
    }
   ],
   "source": [
    "model.summary()"
   ]
  },
  {
   "cell_type": "code",
   "execution_count": 26,
   "metadata": {
    "colab": {
     "base_uri": "https://localhost:8080/"
    },
    "id": "i8U3dDXeb6cv",
    "outputId": "71d7cf70-1c95-45fe-d11a-b9032a43596a"
   },
   "outputs": [
    {
     "data": {
      "text/plain": [
       "[array([[-0.50511456,  1.3203135 ],\n",
       "        [ 0.20559838, -0.5917814 ],\n",
       "        [-0.99575984, -1.330253  ],\n",
       "        [ 0.7155113 ,  0.94222176],\n",
       "        [-0.70967543, -0.78747004],\n",
       "        [ 0.07822877,  0.08531961],\n",
       "        [ 1.435385  ,  0.12153869],\n",
       "        [ 0.97106874,  0.8034846 ],\n",
       "        [-0.72688925, -0.07770379],\n",
       "        [ 1.0715812 , -1.0321158 ],\n",
       "        [ 1.6301029 , -1.1619009 ],\n",
       "        [-1.0857885 ,  1.188901  ],\n",
       "        [ 0.71262395, -0.4659171 ],\n",
       "        [-1.8456801 ,  1.4741591 ],\n",
       "        [-0.8119723 , -1.0365324 ]], dtype=float32),\n",
       " array([0.16537999, 0.15322734], dtype=float32)]"
      ]
     },
     "execution_count": 26,
     "metadata": {},
     "output_type": "execute_result"
    }
   ],
   "source": [
    "model.layers[0].get_weights()"
   ]
  },
  {
   "cell_type": "code",
   "execution_count": 27,
   "metadata": {
    "colab": {
     "base_uri": "https://localhost:8080/"
    },
    "id": "uXL00ipcqhUQ",
    "outputId": "51fcbc4c-fd1f-440a-f17b-9f3bdf7411a3"
   },
   "outputs": [
    {
     "data": {
      "text/plain": [
       "array([0.16537999, 0.15322734], dtype=float32)"
      ]
     },
     "execution_count": 27,
     "metadata": {},
     "output_type": "execute_result"
    }
   ],
   "source": [
    "model.layers[0].get_weights()[1]"
   ]
  },
  {
   "cell_type": "code",
   "execution_count": 28,
   "metadata": {
    "colab": {
     "base_uri": "https://localhost:8080/"
    },
    "id": "yLs6zg6cb6cv",
    "outputId": "794ccc40-f323-4838-cdf1-ba7e67e18461"
   },
   "outputs": [
    {
     "data": {
      "text/plain": [
       "array([[-0.33973455,  1.4735408 ],\n",
       "       [ 0.37097836, -0.43855405],\n",
       "       [-0.83037984, -1.1770257 ],\n",
       "       [ 0.8808913 ,  1.0954491 ],\n",
       "       [-0.54429543, -0.6342427 ]], dtype=float32)"
      ]
     },
     "execution_count": 28,
     "metadata": {},
     "output_type": "execute_result"
    }
   ],
   "source": [
    "word_vectors = model.layers[0].get_weights()[0] + model.layers[0].get_weights()[1]\n",
    "word_vectors[:5]"
   ]
  },
  {
   "cell_type": "code",
   "execution_count": 29,
   "metadata": {},
   "outputs": [
    {
     "data": {
      "text/plain": [
       "(15, 2)"
      ]
     },
     "execution_count": 29,
     "metadata": {},
     "output_type": "execute_result"
    }
   ],
   "source": [
    "word_vectors.shape"
   ]
  },
  {
   "cell_type": "code",
   "execution_count": 30,
   "metadata": {
    "colab": {
     "base_uri": "https://localhost:8080/",
     "height": 614
    },
    "id": "BrqruK1lb6cv",
    "outputId": "8a051bbf-deff-48fd-9628-42c38eb0b67d"
   },
   "outputs": [
    {
     "data": {
      "text/html": [
       "<div>\n",
       "<style scoped>\n",
       "    .dataframe tbody tr th:only-of-type {\n",
       "        vertical-align: middle;\n",
       "    }\n",
       "\n",
       "    .dataframe tbody tr th {\n",
       "        vertical-align: top;\n",
       "    }\n",
       "\n",
       "    .dataframe thead th {\n",
       "        text-align: right;\n",
       "    }\n",
       "</style>\n",
       "<table border=\"1\" class=\"dataframe\">\n",
       "  <thead>\n",
       "    <tr style=\"text-align: right;\">\n",
       "      <th></th>\n",
       "      <th>x1</th>\n",
       "      <th>x2</th>\n",
       "      <th>word</th>\n",
       "    </tr>\n",
       "  </thead>\n",
       "  <tbody>\n",
       "    <tr>\n",
       "      <th>0</th>\n",
       "      <td>-0.339735</td>\n",
       "      <td>1.473541</td>\n",
       "      <td>woman</td>\n",
       "    </tr>\n",
       "    <tr>\n",
       "      <th>1</th>\n",
       "      <td>0.370978</td>\n",
       "      <td>-0.438554</td>\n",
       "      <td>boy</td>\n",
       "    </tr>\n",
       "    <tr>\n",
       "      <th>2</th>\n",
       "      <td>-0.830380</td>\n",
       "      <td>-1.177026</td>\n",
       "      <td>young</td>\n",
       "    </tr>\n",
       "    <tr>\n",
       "      <th>3</th>\n",
       "      <td>0.880891</td>\n",
       "      <td>1.095449</td>\n",
       "      <td>and</td>\n",
       "    </tr>\n",
       "    <tr>\n",
       "      <th>4</th>\n",
       "      <td>-0.544295</td>\n",
       "      <td>-0.634243</td>\n",
       "      <td>princess</td>\n",
       "    </tr>\n",
       "    <tr>\n",
       "      <th>5</th>\n",
       "      <td>0.243609</td>\n",
       "      <td>0.238547</td>\n",
       "      <td>wise</td>\n",
       "    </tr>\n",
       "    <tr>\n",
       "      <th>6</th>\n",
       "      <td>1.600765</td>\n",
       "      <td>0.274766</td>\n",
       "      <td>king</td>\n",
       "    </tr>\n",
       "    <tr>\n",
       "      <th>7</th>\n",
       "      <td>1.136449</td>\n",
       "      <td>0.956712</td>\n",
       "      <td>queen</td>\n",
       "    </tr>\n",
       "    <tr>\n",
       "      <th>8</th>\n",
       "      <td>-0.561509</td>\n",
       "      <td>0.075524</td>\n",
       "      <td>very</td>\n",
       "    </tr>\n",
       "    <tr>\n",
       "      <th>9</th>\n",
       "      <td>1.236961</td>\n",
       "      <td>-0.878888</td>\n",
       "      <td>man</td>\n",
       "    </tr>\n",
       "    <tr>\n",
       "      <th>10</th>\n",
       "      <td>1.795483</td>\n",
       "      <td>-1.008674</td>\n",
       "      <td>pretty</td>\n",
       "    </tr>\n",
       "    <tr>\n",
       "      <th>11</th>\n",
       "      <td>-0.920408</td>\n",
       "      <td>1.342128</td>\n",
       "      <td>strong</td>\n",
       "    </tr>\n",
       "    <tr>\n",
       "      <th>12</th>\n",
       "      <td>0.878004</td>\n",
       "      <td>-0.312690</td>\n",
       "      <td>prince</td>\n",
       "    </tr>\n",
       "    <tr>\n",
       "      <th>13</th>\n",
       "      <td>-1.680300</td>\n",
       "      <td>1.627386</td>\n",
       "      <td>be</td>\n",
       "    </tr>\n",
       "    <tr>\n",
       "      <th>14</th>\n",
       "      <td>-0.646592</td>\n",
       "      <td>-0.883305</td>\n",
       "      <td>girl</td>\n",
       "    </tr>\n",
       "  </tbody>\n",
       "</table>\n",
       "</div>"
      ],
      "text/plain": [
       "          x1        x2      word\n",
       "0  -0.339735  1.473541     woman\n",
       "1   0.370978 -0.438554       boy\n",
       "2  -0.830380 -1.177026     young\n",
       "3   0.880891  1.095449       and\n",
       "4  -0.544295 -0.634243  princess\n",
       "5   0.243609  0.238547      wise\n",
       "6   1.600765  0.274766      king\n",
       "7   1.136449  0.956712     queen\n",
       "8  -0.561509  0.075524      very\n",
       "9   1.236961 -0.878888       man\n",
       "10  1.795483 -1.008674    pretty\n",
       "11 -0.920408  1.342128    strong\n",
       "12  0.878004 -0.312690    prince\n",
       "13 -1.680300  1.627386        be\n",
       "14 -0.646592 -0.883305      girl"
      ]
     },
     "execution_count": 30,
     "metadata": {},
     "output_type": "execute_result"
    }
   ],
   "source": [
    "w2v = pd.DataFrame(word_vectors, columns = ['x1', 'x2'])\n",
    "w2v['word'] = list(words)\n",
    "# w2v['x1'] *= 5\n",
    "# w2v['x2'] *= 5\n",
    "w2v"
   ]
  },
  {
   "cell_type": "code",
   "execution_count": 31,
   "metadata": {
    "colab": {
     "base_uri": "https://localhost:8080/",
     "height": 497
    },
    "id": "PCuR_gB-b6cv",
    "outputId": "9b83ab5a-16aa-464d-84d1-886cf811164f"
   },
   "outputs": [
    {
     "data": {
      "image/png": "[encoded data removed]",
      "text/plain": [
       "<Figure size 864x576 with 1 Axes>"
      ]
     },
     "metadata": {
      "needs_background": "light"
     },
     "output_type": "display_data"
    }
   ],
   "source": [
    "fig, ax = plt.subplots(figsize=(12,8))\n",
    "\n",
    "for word, x1, x2 in zip(w2v['word'], w2v['x1'], w2v['x2']):\n",
    "    ax.annotate(word, (x1, x2))\n",
    "    \n",
    "PADDING = 1.0\n",
    "x_axis_min = np.min(word_vectors, axis=0)[0] - PADDING\n",
    "y_axis_min = np.min(word_vectors, axis=0)[1] - PADDING\n",
    "x_axis_max = np.max(word_vectors, axis=0)[0] + PADDING\n",
    "y_axis_max = np.max(word_vectors, axis=0)[1] + PADDING\n",
    " \n",
    "plt.xlim(x_axis_min, x_axis_max)\n",
    "plt.ylim(y_axis_min, y_axis_max)\n",
    "plt.xlabel('x1')\n",
    "plt.ylabel('x2')\n",
    "\n",
    "plt.show()"
   ]
  },
  {
   "cell_type": "code",
   "execution_count": null,
   "metadata": {
    "id": "B7eag7EytMpJ"
   },
   "outputs": [],
   "source": []
  }
 ],
 "metadata": {
  "colab": {
   "name": "015_word2vec.ipynb",
   "provenance": []
  },
  "kernelspec": {
   "display_name": "Python 3",
   "language": "python",
   "name": "python3"
  },
  "language_info": {
   "codemirror_mode": {
    "name": "ipython",
    "version": 3
   },
   "file_extension": ".py",
   "mimetype": "text/x-python",
   "name": "python",
   "nbconvert_exporter": "python",
   "pygments_lexer": "ipython3",
   "version": "3.9.7"
  }
 },
 "nbformat": 4,
 "nbformat_minor": 1
}
