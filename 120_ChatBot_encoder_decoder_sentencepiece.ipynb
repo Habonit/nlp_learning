{
 "cells": [
  {
   "cell_type": "markdown",
   "metadata": {
    "id": "XmkplRCZlsgK"
   },
   "source": [
    "# 120. Chatbot - seq2seq language model\n",
    "\n",
    "### Encoder-Decoder model\n",
    "\n",
    "- Chatbot_data_for_Korean v1.0 dataset (https://github.com/songys/Chatbot_data) 을 이용한 Chatbot model 개발\n",
    "\n",
    "- 챗봇 트레이닝용 문답 페어 11,876개  \n",
    "- 일상다반사 - 0, \n",
    "- 이별(부정) - 1, \n",
    "- 사랑(긍정) - 2 로 레이블링  \n",
    "\n",
    "<img src='https://github.com/ironmanciti/NLP_Lecture/raw/master/chatbot.png' width=600>"
   ]
  },
  {
   "cell_type": "code",
   "execution_count": 1,
   "metadata": {
    "id": "G3EOljBv8DoS"
   },
   "outputs": [],
   "source": [
    "!pip install -q sentencepiece"
   ]
  },
  {
   "cell_type": "code",
   "execution_count": 2,
   "metadata": {
    "id": "c9_0sp0bly9-"
   },
   "outputs": [],
   "source": [
    "import numpy as np\n",
    "import pandas as pd\n",
    "import matplotlib.pyplot as plt\n",
    "import tensorflow as tf\n",
    "import sentencepiece as spm\n",
    "from tensorflow.keras.models import Model\n",
    "from tensorflow.keras.layers import Dense, Embedding, Input, LSTM\n",
    "from tensorflow.keras.preprocessing.text import Tokenizer\n",
    "from tensorflow.keras.preprocessing.sequence import pad_sequences\n",
    "from tensorflow.keras.utils import to_categorical, plot_model"
   ]
  },
  {
   "cell_type": "code",
   "execution_count": 3,
   "metadata": {
    "id": "DwX2QDgylsgL"
   },
   "outputs": [],
   "source": [
    "LATENT_DIM = 128                # encoding space 의 latent dimensionality\n",
    "EMBEDDING_DIM = 100"
   ]
  },
  {
   "cell_type": "markdown",
   "metadata": {
    "id": "sfuxDUlqKA0U"
   },
   "source": [
    "Train Data 불러오기"
   ]
  },
  {
   "cell_type": "code",
   "execution_count": 4,
   "metadata": {
    "colab": {
     "base_uri": "https://localhost:8080/",
     "height": 206
    },
    "id": "oAxrCnWLlsgO",
    "outputId": "ce124c7c-01a5-4c0f-9a28-5f0b2b6bea3a"
   },
   "outputs": [
    {
     "data": {
      "text/html": [
       "\n",
       "  <div id=\"df-c9d60b12-a43c-4a97-9bea-0965f906879d\">\n",
       "    <div class=\"colab-df-container\">\n",
       "      <div>\n",
       "<style scoped>\n",
       "    .dataframe tbody tr th:only-of-type {\n",
       "        vertical-align: middle;\n",
       "    }\n",
       "\n",
       "    .dataframe tbody tr th {\n",
       "        vertical-align: top;\n",
       "    }\n",
       "\n",
       "    .dataframe thead th {\n",
       "        text-align: right;\n",
       "    }\n",
       "</style>\n",
       "<table border=\"1\" class=\"dataframe\">\n",
       "  <thead>\n",
       "    <tr style=\"text-align: right;\">\n",
       "      <th></th>\n",
       "      <th>Q</th>\n",
       "      <th>A</th>\n",
       "      <th>label</th>\n",
       "    </tr>\n",
       "  </thead>\n",
       "  <tbody>\n",
       "    <tr>\n",
       "      <th>0</th>\n",
       "      <td>12시 땡!</td>\n",
       "      <td>하루가 또 가네요.</td>\n",
       "      <td>0</td>\n",
       "    </tr>\n",
       "    <tr>\n",
       "      <th>1</th>\n",
       "      <td>1지망 학교 떨어졌어</td>\n",
       "      <td>위로해 드립니다.</td>\n",
       "      <td>0</td>\n",
       "    </tr>\n",
       "    <tr>\n",
       "      <th>2</th>\n",
       "      <td>3박4일 놀러가고 싶다</td>\n",
       "      <td>여행은 언제나 좋죠.</td>\n",
       "      <td>0</td>\n",
       "    </tr>\n",
       "    <tr>\n",
       "      <th>3</th>\n",
       "      <td>3박4일 정도 놀러가고 싶다</td>\n",
       "      <td>여행은 언제나 좋죠.</td>\n",
       "      <td>0</td>\n",
       "    </tr>\n",
       "    <tr>\n",
       "      <th>4</th>\n",
       "      <td>PPL 심하네</td>\n",
       "      <td>눈살이 찌푸려지죠.</td>\n",
       "      <td>0</td>\n",
       "    </tr>\n",
       "  </tbody>\n",
       "</table>\n",
       "</div>\n",
       "      <button class=\"colab-df-convert\" onclick=\"convertToInteractive('df-c9d60b12-a43c-4a97-9bea-0965f906879d')\"\n",
       "              title=\"Convert this dataframe to an interactive table.\"\n",
       "              style=\"display:none;\">\n",
       "        \n",
       "  <svg xmlns=\"http://www.w3.org/2000/svg\" height=\"24px\"viewBox=\"0 0 24 24\"\n",
       "       width=\"24px\">\n",
       "    <path d=\"M0 0h24v24H0V0z\" fill=\"none\"/>\n",
       "    <path d=\"M18.56 5.44l.94 2.06.94-2.06 2.06-.94-2.06-.94-.94-2.06-.94 2.06-2.06.94zm-11 1L8.5 8.5l.94-2.06 2.06-.94-2.06-.94L8.5 2.5l-.94 2.06-2.06.94zm10 10l.94 2.06.94-2.06 2.06-.94-2.06-.94-.94-2.06-.94 2.06-2.06.94z\"/><path d=\"M17.41 7.96l-1.37-1.37c-.4-.4-.92-.59-1.43-.59-.52 0-1.04.2-1.43.59L10.3 9.45l-7.72 7.72c-.78.78-.78 2.05 0 2.83L4 21.41c.39.39.9.59 1.41.59.51 0 1.02-.2 1.41-.59l7.78-7.78 2.81-2.81c.8-.78.8-2.07 0-2.86zM5.41 20L4 18.59l7.72-7.72 1.47 1.35L5.41 20z\"/>\n",
       "  </svg>\n",
       "      </button>\n",
       "      \n",
       "  <style>\n",
       "    .colab-df-container {\n",
       "      display:flex;\n",
       "      flex-wrap:wrap;\n",
       "      gap: 12px;\n",
       "    }\n",
       "\n",
       "    .colab-df-convert {\n",
       "      background-color: #E8F0FE;\n",
       "      border: none;\n",
       "      border-radius: 50%;\n",
       "      cursor: pointer;\n",
       "      display: none;\n",
       "      fill: #1967D2;\n",
       "      height: 32px;\n",
       "      padding: 0 0 0 0;\n",
       "      width: 32px;\n",
       "    }\n",
       "\n",
       "    .colab-df-convert:hover {\n",
       "      background-color: #E2EBFA;\n",
       "      box-shadow: 0px 1px 2px rgba(60, 64, 67, 0.3), 0px 1px 3px 1px rgba(60, 64, 67, 0.15);\n",
       "      fill: #174EA6;\n",
       "    }\n",
       "\n",
       "    [theme=dark] .colab-df-convert {\n",
       "      background-color: #3B4455;\n",
       "      fill: #D2E3FC;\n",
       "    }\n",
       "\n",
       "    [theme=dark] .colab-df-convert:hover {\n",
       "      background-color: #434B5C;\n",
       "      box-shadow: 0px 1px 3px 1px rgba(0, 0, 0, 0.15);\n",
       "      filter: drop-shadow(0px 1px 2px rgba(0, 0, 0, 0.3));\n",
       "      fill: #FFFFFF;\n",
       "    }\n",
       "  </style>\n",
       "\n",
       "      <script>\n",
       "        const buttonEl =\n",
       "          document.querySelector('#df-c9d60b12-a43c-4a97-9bea-0965f906879d button.colab-df-convert');\n",
       "        buttonEl.style.display =\n",
       "          google.colab.kernel.accessAllowed ? 'block' : 'none';\n",
       "\n",
       "        async function convertToInteractive(key) {\n",
       "          const element = document.querySelector('#df-c9d60b12-a43c-4a97-9bea-0965f906879d');\n",
       "          const dataTable =\n",
       "            await google.colab.kernel.invokeFunction('convertToInteractive',\n",
       "                                                     [key], {});\n",
       "          if (!dataTable) return;\n",
       "\n",
       "          const docLinkHtml = 'Like what you see? Visit the ' +\n",
       "            '<a target=\"_blank\" href=https://colab.research.google.com/notebooks/data_table.ipynb>data table notebook</a>'\n",
       "            + ' to learn more about interactive tables.';\n",
       "          element.innerHTML = '';\n",
       "          dataTable['output_type'] = 'display_data';\n",
       "          await google.colab.output.renderOutput(dataTable, element);\n",
       "          const docLink = document.createElement('div');\n",
       "          docLink.innerHTML = docLinkHtml;\n",
       "          element.appendChild(docLink);\n",
       "        }\n",
       "      </script>\n",
       "    </div>\n",
       "  </div>\n",
       "  "
      ],
      "text/plain": [
       "                 Q            A  label\n",
       "0           12시 땡!   하루가 또 가네요.      0\n",
       "1      1지망 학교 떨어졌어    위로해 드립니다.      0\n",
       "2     3박4일 놀러가고 싶다  여행은 언제나 좋죠.      0\n",
       "3  3박4일 정도 놀러가고 싶다  여행은 언제나 좋죠.      0\n",
       "4          PPL 심하네   눈살이 찌푸려지죠.      0"
      ]
     },
     "execution_count": 4,
     "metadata": {},
     "output_type": "execute_result"
    }
   ],
   "source": [
    "df = pd.read_csv('https://github.com/ironmanciti/NLP_Lecture/raw/master/data/ChatbotData.csv')\n",
    "df.head()"
   ]
  },
  {
   "cell_type": "code",
   "execution_count": 5,
   "metadata": {
    "colab": {
     "base_uri": "https://localhost:8080/"
    },
    "id": "Ggjm3RYylsgT",
    "outputId": "927ee152-8389-485d-b9c2-e6545fc1a3df"
   },
   "outputs": [
    {
     "name": "stdout",
     "output_type": "stream",
     "text": [
      "<class 'pandas.core.frame.DataFrame'>\n",
      "RangeIndex: 11823 entries, 0 to 11822\n",
      "Data columns (total 3 columns):\n",
      " #   Column  Non-Null Count  Dtype \n",
      "---  ------  --------------  ----- \n",
      " 0   Q       11823 non-null  object\n",
      " 1   A       11823 non-null  object\n",
      " 2   label   11823 non-null  int64 \n",
      "dtypes: int64(1), object(2)\n",
      "memory usage: 277.2+ KB\n"
     ]
    }
   ],
   "source": [
    "df.info()"
   ]
  },
  {
   "cell_type": "markdown",
   "metadata": {
    "id": "tJ73w68NKG6A"
   },
   "source": [
    "Data 확인"
   ]
  },
  {
   "cell_type": "code",
   "execution_count": 6,
   "metadata": {
    "colab": {
     "base_uri": "https://localhost:8080/"
    },
    "id": "nXpwdBi2lsgW",
    "outputId": "8047e0f4-0bee-4c17-b521-1c6161863ea2"
   },
   "outputs": [
    {
     "data": {
      "text/plain": [
       "array([['12시 땡!', '하루가 또 가네요.'],\n",
       "       ['1지망 학교 떨어졌어', '위로해 드립니다.'],\n",
       "       ['3박4일 놀러가고 싶다', '여행은 언제나 좋죠.'],\n",
       "       ...,\n",
       "       ['흑기사 해주는 짝남.', '설렜겠어요.'],\n",
       "       ['힘든 연애 좋은 연애라는게 무슨 차이일까?', '잘 헤어질 수 있는 사이 여부인 거 같아요.'],\n",
       "       ['힘들어서 결혼할까봐', '도피성 결혼은 하지 않길 바라요.']], dtype=object)"
      ]
     },
     "execution_count": 6,
     "metadata": {},
     "output_type": "execute_result"
    }
   ],
   "source": [
    "df.iloc[:, [0, 1]].values"
   ]
  },
  {
   "cell_type": "markdown",
   "metadata": {
    "id": "VgosYfxgKKaw"
   },
   "source": [
    "Train 용 Question, Answer data 작성"
   ]
  },
  {
   "cell_type": "code",
   "execution_count": 7,
   "metadata": {
    "colab": {
     "base_uri": "https://localhost:8080/"
    },
    "id": "w_w_4kr8762q",
    "outputId": "7d4cf3ff-f8ca-41fb-b547-6492b28e8c4a"
   },
   "outputs": [
    {
     "name": "stdout",
     "output_type": "stream",
     "text": [
      "23646 11823 11823\n",
      "Question :\n",
      "['12시 땡!', '1지망 학교 떨어졌어', '3박4일 놀러가고 싶다', '3박4일 정도 놀러가고 싶다', 'PPL 심하네']\n",
      "Answer :\n",
      "['하루가 또 가네요.', '위로해 드립니다.', '여행은 언제나 좋죠.', '여행은 언제나 좋죠.', '눈살이 찌푸려지죠.']\n"
     ]
    }
   ],
   "source": [
    "All_texts = []    # sentencepiece tokenizer 학습에 사용\n",
    "Q_texts = []        # Encoder 입력에 사용\n",
    "A_texts = []        # Decoder 입력에 사용 \n",
    "\n",
    "for Q, A in df.iloc[:, [0, 1]].values:\n",
    "    Q_texts.append(Q)\n",
    "    A_texts.append(A)\n",
    "\n",
    "All_texts = Q_texts + A_texts\n",
    "\n",
    "print(len(All_texts), len(Q_texts), len(A_texts))\n",
    "print(\"Question :\")\n",
    "print(Q_texts[:5])\n",
    "print(\"Answer :\")\n",
    "print(A_texts[:5])"
   ]
  },
  {
   "cell_type": "markdown",
   "metadata": {
    "id": "aiHERa4SKS9l"
   },
   "source": [
    "## Sentencepiece Tokenizer 학습을 위한 text file 생성"
   ]
  },
  {
   "cell_type": "code",
   "execution_count": 8,
   "metadata": {
    "id": "XJEFbpPv8u3O"
   },
   "outputs": [],
   "source": [
    "with open('chatbot_qna.txt', 'w', encoding='utf-8') as f:\n",
    "    for line in All_texts:\n",
    "        f.write(line + '\\n')"
   ]
  },
  {
   "cell_type": "code",
   "execution_count": 9,
   "metadata": {
    "id": "Ne2P_xEB81cf"
   },
   "outputs": [],
   "source": [
    "input_file = 'chatbot_qna.txt'\n",
    "pad_id = 0             #<pad> token을 0으로 설정\n",
    "vocab_size = 5000      # vocab 사이즈\n",
    "prefix = 'chatbot_qna' # 저장될 tokenizer 모델에 붙는 이름\n",
    "bos_id=1               #<s> token을 1으로 설정\n",
    "eos_id=2               #</s> token을 2으로 설정\n",
    "unk_id=3               #<unknown> token을 3으로 설정\n",
    "\n",
    "cmd = f'--input={input_file} \\\n",
    "--pad_id={pad_id} \\\n",
    "--bos_id={bos_id} \\\n",
    "--eos_id={eos_id} \\\n",
    "--unk_id={unk_id} \\\n",
    "--model_prefix={prefix} \\\n",
    "--vocab_size={vocab_size}'\n",
    "\n",
    "spm.SentencePieceTrainer.Train(cmd)"
   ]
  },
  {
   "cell_type": "markdown",
   "metadata": {
    "id": "ZC_GKVRAKezw"
   },
   "source": [
    "학습 완료된 sentencepiece tokenizer Load"
   ]
  },
  {
   "cell_type": "code",
   "execution_count": 10,
   "metadata": {
    "colab": {
     "base_uri": "https://localhost:8080/"
    },
    "id": "eeSxYOD581J0",
    "outputId": "e38fbb43-6c1d-4a00-c01c-53dc846b8596"
   },
   "outputs": [
    {
     "data": {
      "text/plain": [
       "True"
      ]
     },
     "execution_count": 10,
     "metadata": {},
     "output_type": "execute_result"
    }
   ],
   "source": [
    "sp = spm.SentencePieceProcessor()\n",
    "sp.Load(f'{prefix}.model')"
   ]
  },
  {
   "cell_type": "code",
   "execution_count": 11,
   "metadata": {
    "colab": {
     "base_uri": "https://localhost:8080/",
     "height": 38
    },
    "id": "ZDtQbg5KNo9q",
    "outputId": "08fb3b18-9567-4c33-f01a-7c683a669afd"
   },
   "outputs": [
    {
     "data": {
      "application/vnd.google.colaboratory.intrinsic+json": {
       "type": "string"
      },
      "text/plain": [
       "'저도 도움이 될 거예요.'"
      ]
     },
     "execution_count": 11,
     "metadata": {},
     "output_type": "execute_result"
    }
   ],
   "source": [
    "sp.DecodeIds([170, 367, 10, 129, 16, 4])"
   ]
  },
  {
   "cell_type": "markdown",
   "metadata": {
    "id": "-kw7Kp-nKujU"
   },
   "source": [
    "- Tokenize하기 전에 데이터 자체에 `<s>, </s>`를 넣어줘도 되지만, 패키지 자체에서 알아서 해주는 옵션(sp.SetEncodeExtraOptions)이 있습니다.\n",
    "\n",
    "- `sp.SetEncodeExtraOptions('bos:eos')` : 문장 양 끝에 `<s> , </s>` 추가"
   ]
  },
  {
   "cell_type": "code",
   "execution_count": 12,
   "metadata": {
    "colab": {
     "base_uri": "https://localhost:8080/"
    },
    "id": "Wj0q49DV9l4N",
    "outputId": "6a6acc0d-8485-4924-c839-b3c43f4fc5b4"
   },
   "outputs": [
    {
     "name": "stdout",
     "output_type": "stream",
     "text": [
      "['<s>', '▁아', '버', '지', '가', '▁방', '에', '▁들어가', '신', '다']\n",
      "[1, 222, 2140, 15, 7, 1435, 29, 1687, 468, 57]\n",
      "아버지가 방에 들어가신다\n",
      "아버지가 방에 들어가신다\n"
     ]
    }
   ],
   "source": [
    "sp.SetEncodeExtraOptions('bos:')   # 문장 처음에 <s>추가 --> Decoder Input에 사용\n",
    "pieces = sp.encode_as_pieces('아버지가 방에 들어가신다')\n",
    "print(pieces)\n",
    "ids = sp.encode_as_ids('아버지가 방에 들어가신다')\n",
    "print(ids)\n",
    "print(sp.DecodePieces(pieces))\n",
    "print(sp.DecodeIds(ids))"
   ]
  },
  {
   "cell_type": "code",
   "execution_count": 13,
   "metadata": {
    "colab": {
     "base_uri": "https://localhost:8080/"
    },
    "id": "wzCMLJFP9ii_",
    "outputId": "94778455-9e06-48d2-df6d-f572735fb5cd"
   },
   "outputs": [
    {
     "name": "stdout",
     "output_type": "stream",
     "text": [
      "['▁아', '버', '지', '가', '▁방', '에', '▁들어가', '신', '다', '</s>']\n",
      "[222, 2140, 15, 7, 1435, 29, 1687, 468, 57, 2]\n",
      "아버지가 방에 들어가신다\n",
      "아버지가 방에 들어가신다\n"
     ]
    }
   ],
   "source": [
    "sp.SetEncodeExtraOptions(':eos')     # 문장 끝에 </s>추가  --> Decoder target에 사용\n",
    "pieces = sp.encode_as_pieces('아버지가 방에 들어가신다')\n",
    "print(pieces)\n",
    "ids = sp.encode_as_ids('아버지가 방에 들어가신다')\n",
    "print(ids)\n",
    "print(sp.DecodePieces(pieces))\n",
    "print(sp.DecodeIds(ids))"
   ]
  },
  {
   "cell_type": "markdown",
   "metadata": {
    "id": "D2HI74wRLpfB"
   },
   "source": [
    "### Question sequence 작성"
   ]
  },
  {
   "cell_type": "code",
   "execution_count": 14,
   "metadata": {
    "colab": {
     "base_uri": "https://localhost:8080/"
    },
    "id": "42VM1rBZF-74",
    "outputId": "615c6fcf-b8a5-444d-816c-e4017969a20f"
   },
   "outputs": [
    {
     "name": "stdout",
     "output_type": "stream",
     "text": [
      "[[4307, 299, 5, 4792, 72, 2], [290, 15, 1402, 680, 1758, 2], [323, 1297, 2851, 79, 3000, 99, 2], [323, 1297, 2851, 79, 666, 3000, 99, 2], [5, 4551, 4551, 3, 1411, 66, 2]]\n"
     ]
    }
   ],
   "source": [
    "Q_sequences = [sp.encode_as_ids(sent) for sent in Q_texts]\n",
    "\n",
    "print(Q_sequences[:5])"
   ]
  },
  {
   "cell_type": "markdown",
   "metadata": {
    "id": "YAwXDJshLtzl"
   },
   "source": [
    "### Answer sequence input 작성"
   ]
  },
  {
   "cell_type": "code",
   "execution_count": 15,
   "metadata": {
    "colab": {
     "base_uri": "https://localhost:8080/"
    },
    "id": "h_hAyKJ_9iZO",
    "outputId": "a23fd332-7ee2-40aa-f63f-79960bf37613"
   },
   "outputs": [
    {
     "name": "stdout",
     "output_type": "stream",
     "text": [
      "[[1, 282, 7, 115, 78, 23, 4], [1, 1479, 5, 3791, 4], [1, 293, 14, 386, 39, 204, 4], [1, 293, 14, 386, 39, 204, 4], [1, 205, 996, 10, 2483, 3138, 161, 15, 40, 4]]\n"
     ]
    }
   ],
   "source": [
    "sp.SetEncodeExtraOptions('bos:')  # 1로 시작\n",
    "A_sequences_inputs = [sp.encode_as_ids(sent) for sent in A_texts]\n",
    "\n",
    "print(A_sequences_inputs[:5])"
   ]
  },
  {
   "cell_type": "markdown",
   "metadata": {
    "id": "1myPZRUrLyYH"
   },
   "source": [
    "### Answer sequence target 작성"
   ]
  },
  {
   "cell_type": "code",
   "execution_count": 16,
   "metadata": {
    "colab": {
     "base_uri": "https://localhost:8080/"
    },
    "id": "QfjAYbV2-XJY",
    "outputId": "0e9e3f40-ffc8-41aa-e608-429399db396f"
   },
   "outputs": [
    {
     "name": "stdout",
     "output_type": "stream",
     "text": [
      "[[282, 7, 115, 78, 23, 4, 2], [1479, 5, 3791, 4, 2], [293, 14, 386, 39, 204, 4, 2], [293, 14, 386, 39, 204, 4, 2], [205, 996, 10, 2483, 3138, 161, 15, 40, 4, 2]]\n"
     ]
    }
   ],
   "source": [
    "sp.SetEncodeExtraOptions(':eos')  # 2로 종료\n",
    "A_sequences_targets = [sp.encode_as_ids(sent) for sent in A_texts]\n",
    "\n",
    "print(A_sequences_targets[:5])"
   ]
  },
  {
   "cell_type": "markdown",
   "metadata": {
    "id": "sxq0lWFpL18P"
   },
   "source": [
    "input text의  max length 지정"
   ]
  },
  {
   "cell_type": "code",
   "execution_count": 17,
   "metadata": {
    "colab": {
     "base_uri": "https://localhost:8080/",
     "height": 305
    },
    "id": "yTaMsc5Pv-3S",
    "outputId": "d63a4530-1250-44a4-ff67-88053c7cd004"
   },
   "outputs": [
    {
     "name": "stdout",
     "output_type": "stream",
     "text": [
      "Target Text 의 최대 길이 : 56\n",
      "Target Text 의 최대 길이 : 76\n"
     ]
    },
    {
     "data": {
      "image/png": "[encoded data removed]",
      "text/plain": [
       "<Figure size 432x288 with 1 Axes>"
      ]
     },
     "metadata": {
      "needs_background": "light"
     },
     "output_type": "display_data"
    }
   ],
   "source": [
    "max_len_Q = max(len(s) for s in Q_texts)\n",
    "print(\"Target Text 의 최대 길이 :\", max_len_Q)\n",
    "\n",
    "max_len_A = max(len(s) for s in A_texts)\n",
    "print(\"Target Text 의 최대 길이 :\", max_len_A)\n",
    "\n",
    "plt.hist([len(s) for s in All_texts]);"
   ]
  },
  {
   "cell_type": "markdown",
   "metadata": {
    "id": "ztI6kZL1y6Tv"
   },
   "source": [
    "Input sequence 의 최대 길이는 30 으로 정한다."
   ]
  },
  {
   "cell_type": "code",
   "execution_count": 18,
   "metadata": {
    "id": "y9Sv3xkLFkfp"
   },
   "outputs": [],
   "source": [
    "MAX_LEN = 30"
   ]
  },
  {
   "cell_type": "markdown",
   "metadata": {
    "id": "V1oBupk4lsgp"
   },
   "source": [
    "## sequence padding\n",
    "\n",
    "\n",
    "#### 주의 사항\n",
    "- encoder 는 thought vector 생성 목적이므로 default (pre) 로 padding\n",
    "\n",
    "- decoder 는 teacher forcing 을 해야하므로 post 로 padding"
   ]
  },
  {
   "cell_type": "code",
   "execution_count": 19,
   "metadata": {
    "colab": {
     "base_uri": "https://localhost:8080/"
    },
    "id": "WjJudFz1x1_F",
    "outputId": "ffdd445d-e300-4ce5-be2a-d2960fa8b7a3"
   },
   "outputs": [
    {
     "name": "stdout",
     "output_type": "stream",
     "text": [
      "encoder input shape : (11823, 30)\n",
      "encoder_inputs[0] :  [   0    0    0    0    0    0    0    0    0    0    0    0    0    0\n",
      "    0    0    0    0    0    0    0    0    0    0    0  159 1534  309\n",
      " 2428    2]\n",
      "\n",
      "decoder input shape : (11823, 30)\n",
      "decoder_inputs[0] :  [   1 1160   34 3050   44    4    0    0    0    0    0    0    0    0\n",
      "    0    0    0    0    0    0    0    0    0    0    0    0    0    0\n",
      "    0    0]\n",
      "\n",
      "encoder target shape : (11823, 30)\n",
      "encoder_targets[0] :  [1160   34 3050   44    4    2    0    0    0    0    0    0    0    0\n",
      "    0    0    0    0    0    0    0    0    0    0    0    0    0    0\n",
      "    0    0]\n"
     ]
    }
   ],
   "source": [
    "encoder_inputs = pad_sequences(Q_sequences, maxlen=MAX_LEN)\n",
    "print(\"encoder input shape :\", encoder_inputs.shape)\n",
    "print(\"encoder_inputs[0] : \", encoder_inputs[1500])\n",
    "\n",
    "decoder_inputs = pad_sequences(A_sequences_inputs, \n",
    "                               maxlen=MAX_LEN, padding=\"post\")\n",
    "print(\"\\ndecoder input shape :\", decoder_inputs.shape)\n",
    "print(\"decoder_inputs[0] : \", decoder_inputs[1500])\n",
    "\n",
    "decoder_targets = pad_sequences(A_sequences_targets, \n",
    "                                maxlen=MAX_LEN, padding=\"post\")\n",
    "print(\"\\nencoder target shape :\", decoder_targets.shape)\n",
    "print(\"encoder_targets[0] : \", decoder_targets[1500])"
   ]
  },
  {
   "cell_type": "markdown",
   "metadata": {
    "id": "8s4EfHwOlsgu"
   },
   "source": [
    "## Build the model\n",
    "\n",
    "- encoder 와 decoder 의 embedding, lstm 및 dense layer 를 training 할 목적의 model 작성  \n",
    "\n",
    "- encoder 는 decoder 에 states [h, c] 만 전달\n",
    "\n",
    "- prediction 을 위한 inference model 은 training model 에서 만들어진 layer 들의 weight 를 이용하여 별도 작성  \n",
    "\n",
    "### Training : Encoder + Teacher Forcing model"
   ]
  },
  {
   "cell_type": "code",
   "execution_count": 20,
   "metadata": {
    "colab": {
     "base_uri": "https://localhost:8080/"
    },
    "id": "b1IC63sLMtFk",
    "outputId": "35658b13-cd48-4134-ced3-4f6c9e208427"
   },
   "outputs": [
    {
     "name": "stdout",
     "output_type": "stream",
     "text": [
      "Model: \"model\"\n",
      "_________________________________________________________________\n",
      " Layer (type)                Output Shape              Param #   \n",
      "=================================================================\n",
      " Encoder_Input (InputLayer)  [(None, 30)]              0         \n",
      "                                                                 \n",
      " embedding (Embedding)       (None, 30, 100)           500100    \n",
      "                                                                 \n",
      " lstm (LSTM)                 [(None, 128),             117248    \n",
      "                              (None, 128),                       \n",
      "                              (None, 128)]                       \n",
      "                                                                 \n",
      "=================================================================\n",
      "Total params: 617,348\n",
      "Trainable params: 617,348\n",
      "Non-trainable params: 0\n",
      "_________________________________________________________________\n"
     ]
    }
   ],
   "source": [
    "#### Encoder \n",
    "encoder_inputs_ = Input(shape=(MAX_LEN,), name='Encoder_Input')\n",
    "# encoder 의 embedding layer\n",
    "embedding_encoder = Embedding(vocab_size + 1, EMBEDDING_DIM)\n",
    "x = embedding_encoder(encoder_inputs_)\n",
    "\n",
    "encoder_outputs, h, c = LSTM(LATENT_DIM, return_state=True)(x)\n",
    "# encoder 는 hidden state and cell state 만 decoder 로 전달 \n",
    "encoder_states = [h, c]  # --> thought vector\n",
    "\n",
    "encoder_model = Model(encoder_inputs_, encoder_states)\n",
    "encoder_model.summary()"
   ]
  },
  {
   "cell_type": "markdown",
   "metadata": {
    "id": "ep04zyIVNTn4"
   },
   "source": [
    "### Decoder model for Teacher Forcing\n",
    "- Training stage에서만 사용"
   ]
  },
  {
   "cell_type": "code",
   "execution_count": 21,
   "metadata": {
    "colab": {
     "base_uri": "https://localhost:8080/"
    },
    "id": "IjALbWe-z0hx",
    "outputId": "846eb3a8-8f4f-48df-cc79-215beaad7b11"
   },
   "outputs": [
    {
     "name": "stdout",
     "output_type": "stream",
     "text": [
      "Model: \"model_1\"\n",
      "__________________________________________________________________________________________________\n",
      " Layer (type)                   Output Shape         Param #     Connected to                     \n",
      "==================================================================================================\n",
      " Encoder_Input (InputLayer)     [(None, 30)]         0           []                               \n",
      "                                                                                                  \n",
      " Decoder_Input (InputLayer)     [(None, 30)]         0           []                               \n",
      "                                                                                                  \n",
      " embedding (Embedding)          (None, 30, 100)      500100      ['Encoder_Input[0][0]']          \n",
      "                                                                                                  \n",
      " embedding_1 (Embedding)        (None, 30, 100)      500100      ['Decoder_Input[0][0]']          \n",
      "                                                                                                  \n",
      " lstm (LSTM)                    [(None, 128),        117248      ['embedding[0][0]']              \n",
      "                                 (None, 128),                                                     \n",
      "                                 (None, 128)]                                                     \n",
      "                                                                                                  \n",
      " lstm_1 (LSTM)                  [(None, 30, 128),    117248      ['embedding_1[0][0]',            \n",
      "                                 (None, 128),                     'lstm[0][1]',                   \n",
      "                                 (None, 128)]                     'lstm[0][2]']                   \n",
      "                                                                                                  \n",
      " Decoder_Output (Dense)         (None, 30, 5000)     645000      ['lstm_1[0][0]']                 \n",
      "                                                                                                  \n",
      "==================================================================================================\n",
      "Total params: 1,879,696\n",
      "Trainable params: 1,879,696\n",
      "Non-trainable params: 0\n",
      "__________________________________________________________________________________________________\n"
     ]
    }
   ],
   "source": [
    "# decoder 는 [h, c] 를 initial state 로 사용\n",
    "decoder_inputs_ = Input(shape=(MAX_LEN,), name='Decoder_Input')\n",
    "\n",
    "# decoder 의 embedding layer\n",
    "embedding_decoder = Embedding(vocab_size + 1, EMBEDDING_DIM)\n",
    "x = embedding_decoder(decoder_inputs_)\n",
    "\n",
    "decoder_lstm = LSTM(LATENT_DIM, return_sequences=True, return_state=True)\n",
    "# initial state = encoder [h, c]\n",
    "decoder_outputs, _, _ = decoder_lstm(x, initial_state=encoder_states)\n",
    "\n",
    "# final dense layer\n",
    "decoder_dense = Dense(vocab_size, activation='softmax', name='Decoder_Output')\n",
    "decoder_outputs = decoder_dense(decoder_outputs)\n",
    "\n",
    "# Teacher-forceing model  생성\n",
    "model_teacher_forcing = Model([encoder_inputs_, decoder_inputs_], decoder_outputs)\n",
    "\n",
    "#Compile the model and train it\n",
    "model_teacher_forcing.compile(optimizer='rmsprop', loss='sparse_categorical_crossentropy',\n",
    "    metrics=['accuracy'])\n",
    "\n",
    "model_teacher_forcing.summary()"
   ]
  },
  {
   "cell_type": "code",
   "execution_count": 22,
   "metadata": {
    "colab": {
     "base_uri": "https://localhost:8080/",
     "height": 533
    },
    "id": "dzCp_kCYz0Hk",
    "outputId": "9d9a29de-076e-4a0d-a064-142669b7f0bd"
   },
   "outputs": [
    {
     "data": {
      "image/png": "[encoded data removed]",
      "text/plain": [
       "<IPython.core.display.Image object>"
      ]
     },
     "execution_count": 22,
     "metadata": {},
     "output_type": "execute_result"
    }
   ],
   "source": [
    "plot_model(model_teacher_forcing, show_shapes=True)"
   ]
  },
  {
   "cell_type": "markdown",
   "metadata": {
    "id": "U_m-UDAF5_BC"
   },
   "source": [
    "### Train the model"
   ]
  },
  {
   "cell_type": "code",
   "execution_count": 23,
   "metadata": {
    "colab": {
     "base_uri": "https://localhost:8080/"
    },
    "id": "HT4uZpNxlsgw",
    "outputId": "bda5cb74-7f0f-4309-a132-48297ac7623e",
    "scrolled": false
   },
   "outputs": [
    {
     "name": "stdout",
     "output_type": "stream",
     "text": [
      "Epoch 1/40\n",
      "148/148 [==============================] - 13s 42ms/step - loss: 2.0659 - accuracy: 0.7504 - val_loss: 1.7992 - val_accuracy: 0.7589\n",
      "Epoch 2/40\n",
      "148/148 [==============================] - 4s 27ms/step - loss: 1.3763 - accuracy: 0.8033 - val_loss: 1.6845 - val_accuracy: 0.7650\n",
      "Epoch 3/40\n",
      "148/148 [==============================] - 3s 22ms/step - loss: 1.2960 - accuracy: 0.8083 - val_loss: 1.6445 - val_accuracy: 0.7706\n",
      "Epoch 4/40\n",
      "148/148 [==============================] - 3s 22ms/step - loss: 1.2582 - accuracy: 0.8117 - val_loss: 1.6249 - val_accuracy: 0.7731\n",
      "Epoch 5/40\n",
      "148/148 [==============================] - 3s 22ms/step - loss: 1.2288 - accuracy: 0.8145 - val_loss: 1.6093 - val_accuracy: 0.7751\n",
      "Epoch 6/40\n",
      "148/148 [==============================] - 3s 22ms/step - loss: 1.1994 - accuracy: 0.8172 - val_loss: 1.5905 - val_accuracy: 0.7781\n",
      "Epoch 7/40\n",
      "148/148 [==============================] - 3s 22ms/step - loss: 1.2491 - accuracy: 0.8143 - val_loss: 1.5818 - val_accuracy: 0.7798\n",
      "Epoch 8/40\n",
      "148/148 [==============================] - 3s 22ms/step - loss: 1.1410 - accuracy: 0.8228 - val_loss: 1.5710 - val_accuracy: 0.7814\n",
      "Epoch 9/40\n",
      "148/148 [==============================] - 3s 22ms/step - loss: 1.1122 - accuracy: 0.8256 - val_loss: 1.5619 - val_accuracy: 0.7830\n",
      "Epoch 10/40\n",
      "148/148 [==============================] - 3s 22ms/step - loss: 1.0838 - accuracy: 0.8288 - val_loss: 1.5558 - val_accuracy: 0.7843\n",
      "Epoch 11/40\n",
      "148/148 [==============================] - 3s 22ms/step - loss: 1.0566 - accuracy: 0.8311 - val_loss: 1.5561 - val_accuracy: 0.7853\n",
      "Epoch 12/40\n",
      "148/148 [==============================] - 3s 22ms/step - loss: 1.0312 - accuracy: 0.8337 - val_loss: 1.5448 - val_accuracy: 0.7867\n",
      "Epoch 13/40\n",
      "148/148 [==============================] - 3s 22ms/step - loss: 1.0045 - accuracy: 0.8360 - val_loss: 1.5412 - val_accuracy: 0.7874\n",
      "Epoch 14/40\n",
      "148/148 [==============================] - 3s 22ms/step - loss: 0.9779 - accuracy: 0.8386 - val_loss: 1.5406 - val_accuracy: 0.7884\n",
      "Epoch 15/40\n",
      "148/148 [==============================] - 3s 22ms/step - loss: 0.9525 - accuracy: 0.8415 - val_loss: 1.5403 - val_accuracy: 0.7902\n",
      "Epoch 16/40\n",
      "148/148 [==============================] - 3s 22ms/step - loss: 0.9288 - accuracy: 0.8439 - val_loss: 1.5430 - val_accuracy: 0.7905\n",
      "Epoch 17/40\n",
      "148/148 [==============================] - 3s 22ms/step - loss: 0.9052 - accuracy: 0.8465 - val_loss: 1.5434 - val_accuracy: 0.7916\n",
      "Epoch 18/40\n",
      "148/148 [==============================] - 3s 22ms/step - loss: 0.8825 - accuracy: 0.8493 - val_loss: 1.5398 - val_accuracy: 0.7913\n",
      "Epoch 19/40\n",
      "148/148 [==============================] - 3s 22ms/step - loss: 0.8601 - accuracy: 0.8521 - val_loss: 1.5561 - val_accuracy: 0.7918\n",
      "Epoch 20/40\n",
      "148/148 [==============================] - 3s 22ms/step - loss: 0.8390 - accuracy: 0.8548 - val_loss: 1.5597 - val_accuracy: 0.7917\n",
      "Epoch 21/40\n",
      "148/148 [==============================] - 3s 22ms/step - loss: 0.8181 - accuracy: 0.8575 - val_loss: 1.5608 - val_accuracy: 0.7922\n",
      "Epoch 22/40\n",
      "148/148 [==============================] - 3s 23ms/step - loss: 0.7977 - accuracy: 0.8602 - val_loss: 1.5646 - val_accuracy: 0.7920\n",
      "Epoch 23/40\n",
      "148/148 [==============================] - 3s 23ms/step - loss: 0.7776 - accuracy: 0.8627 - val_loss: 1.5708 - val_accuracy: 0.7924\n",
      "Epoch 24/40\n",
      "148/148 [==============================] - 3s 22ms/step - loss: 0.7583 - accuracy: 0.8656 - val_loss: 1.5878 - val_accuracy: 0.7929\n",
      "Epoch 25/40\n",
      "148/148 [==============================] - 3s 22ms/step - loss: 0.7400 - accuracy: 0.8684 - val_loss: 1.5868 - val_accuracy: 0.7928\n",
      "Epoch 26/40\n",
      "148/148 [==============================] - 3s 22ms/step - loss: 0.7212 - accuracy: 0.8710 - val_loss: 1.6022 - val_accuracy: 0.7929\n",
      "Epoch 27/40\n",
      "148/148 [==============================] - 3s 22ms/step - loss: 0.7020 - accuracy: 0.8741 - val_loss: 1.6095 - val_accuracy: 0.7928\n",
      "Epoch 28/40\n",
      "148/148 [==============================] - 3s 22ms/step - loss: 0.6836 - accuracy: 0.8768 - val_loss: 1.6169 - val_accuracy: 0.7928\n",
      "Epoch 29/40\n",
      "148/148 [==============================] - 3s 22ms/step - loss: 0.6653 - accuracy: 0.8801 - val_loss: 1.6264 - val_accuracy: 0.7927\n",
      "Epoch 30/40\n",
      "148/148 [==============================] - 3s 22ms/step - loss: 0.6476 - accuracy: 0.8828 - val_loss: 1.6340 - val_accuracy: 0.7928\n",
      "Epoch 31/40\n",
      "148/148 [==============================] - 3s 22ms/step - loss: 0.6301 - accuracy: 0.8857 - val_loss: 1.6493 - val_accuracy: 0.7924\n",
      "Epoch 32/40\n",
      "148/148 [==============================] - 3s 22ms/step - loss: 0.6129 - accuracy: 0.8887 - val_loss: 1.6582 - val_accuracy: 0.7932\n",
      "Epoch 33/40\n",
      "148/148 [==============================] - 3s 22ms/step - loss: 0.5961 - accuracy: 0.8914 - val_loss: 1.6586 - val_accuracy: 0.7922\n",
      "Epoch 34/40\n",
      "148/148 [==============================] - 3s 22ms/step - loss: 0.5789 - accuracy: 0.8946 - val_loss: 1.6742 - val_accuracy: 0.7919\n",
      "Epoch 35/40\n",
      "148/148 [==============================] - 3s 22ms/step - loss: 0.5634 - accuracy: 0.8977 - val_loss: 1.6777 - val_accuracy: 0.7926\n",
      "Epoch 36/40\n",
      "148/148 [==============================] - 3s 22ms/step - loss: 0.5474 - accuracy: 0.9004 - val_loss: 1.6919 - val_accuracy: 0.7921\n",
      "Epoch 37/40\n",
      "148/148 [==============================] - 3s 22ms/step - loss: 0.5320 - accuracy: 0.9031 - val_loss: 1.6985 - val_accuracy: 0.7917\n",
      "Epoch 38/40\n",
      "148/148 [==============================] - 3s 22ms/step - loss: 0.5161 - accuracy: 0.9061 - val_loss: 1.7103 - val_accuracy: 0.7921\n",
      "Epoch 39/40\n",
      "148/148 [==============================] - 3s 22ms/step - loss: 0.5009 - accuracy: 0.9092 - val_loss: 1.7209 - val_accuracy: 0.7921\n",
      "Epoch 40/40\n",
      "148/148 [==============================] - 3s 22ms/step - loss: 0.4852 - accuracy: 0.9123 - val_loss: 1.7323 - val_accuracy: 0.7921\n"
     ]
    }
   ],
   "source": [
    "EPOCHS = 40\n",
    "BATCH_SIZE = 64\n",
    "history = model_teacher_forcing.fit([encoder_inputs, decoder_inputs], \n",
    "                    decoder_targets, batch_size=BATCH_SIZE, epochs=EPOCHS, \n",
    "                   validation_split=0.2)"
   ]
  },
  {
   "cell_type": "markdown",
   "metadata": {
    "id": "jqt6bVBZN-ck"
   },
   "source": [
    "accuracy, loss 시각화"
   ]
  },
  {
   "cell_type": "code",
   "execution_count": 24,
   "metadata": {
    "colab": {
     "base_uri": "https://localhost:8080/",
     "height": 269
    },
    "id": "nCLIcYy8lsgy",
    "outputId": "d55a4bcd-73f1-46c4-e5a3-aa545d5b2042"
   },
   "outputs": [
    {
     "data": {
      "image/png": "[encoded data removed]",
      "text/plain": [
       "<Figure size 864x288 with 2 Axes>"
      ]
     },
     "metadata": {
      "needs_background": "light"
     },
     "output_type": "display_data"
    }
   ],
   "source": [
    "# plot some data\n",
    "plt.figure(figsize=(12, 4))\n",
    "plt.subplot(1, 2, 1)\n",
    "plt.plot(history.history['loss'], label='loss')\n",
    "plt.plot(history.history['val_loss'], label='val_loss')\n",
    "plt.legend()\n",
    "\n",
    "# accuracies\n",
    "plt.subplot(1, 2, 2)\n",
    "plt.plot(history.history['accuracy'], label='acc')\n",
    "plt.plot(history.history['val_accuracy'], label='val_acc')\n",
    "plt.legend()\n",
    "plt.show()"
   ]
  },
  {
   "cell_type": "code",
   "execution_count": 25,
   "metadata": {
    "id": "qCkeujkMlsg0"
   },
   "outputs": [],
   "source": [
    "# save model\n",
    "model_teacher_forcing.save('s2s.h5')"
   ]
  },
  {
   "cell_type": "markdown",
   "metadata": {
    "id": "B3n59rHJlsg1"
   },
   "source": [
    "### Make Predictions - Inference phase\n",
    "\n",
    "- prediction 을 위한 별도의 encoder model \n",
    "- encoder 의 states 를 initial state 로 받는 decoder model 작성  \n",
    "\n",
    "- encoder 는 training 단계와 동일하게 input_text 를 입력으로 받고 encoder_states 를 출력으로 하므로 이전에 define 한 encoder_input_ 과 encoder_states 변수 재사용"
   ]
  },
  {
   "cell_type": "code",
   "execution_count": 26,
   "metadata": {
    "colab": {
     "base_uri": "https://localhost:8080/"
    },
    "id": "KEb2UN2t9d2U",
    "outputId": "d9b1d09f-cd31-4c3d-cc2d-78e99eacc7ac"
   },
   "outputs": [
    {
     "name": "stdout",
     "output_type": "stream",
     "text": [
      "Model: \"model_2\"\n",
      "__________________________________________________________________________________________________\n",
      " Layer (type)                   Output Shape         Param #     Connected to                     \n",
      "==================================================================================================\n",
      " Decoder_input (InputLayer)     [(None, 1)]          0           []                               \n",
      "                                                                                                  \n",
      " embedding_1 (Embedding)        multiple             500100      ['Decoder_input[0][0]']          \n",
      "                                                                                                  \n",
      " Decoder_hidden_h (InputLayer)  [(None, 128)]        0           []                               \n",
      "                                                                                                  \n",
      " Decoder_hidden_c (InputLayer)  [(None, 128)]        0           []                               \n",
      "                                                                                                  \n",
      " lstm_1 (LSTM)                  multiple             117248      ['embedding_1[1][0]',            \n",
      "                                                                  'Decoder_hidden_h[0][0]',       \n",
      "                                                                  'Decoder_hidden_c[0][0]']       \n",
      "                                                                                                  \n",
      " Decoder_Output (Dense)         multiple             645000      ['lstm_1[1][0]']                 \n",
      "                                                                                                  \n",
      "==================================================================================================\n",
      "Total params: 1,262,348\n",
      "Trainable params: 1,262,348\n",
      "Non-trainable params: 0\n",
      "__________________________________________________________________________________________________\n"
     ]
    }
   ],
   "source": [
    "# Decoder for inference\n",
    "decoder_state_input_h = Input(shape=(LATENT_DIM,), name='Decoder_hidden_h')\n",
    "decoder_state_input_c = Input(shape=(LATENT_DIM,), name='Decoder_hidden_c')\n",
    "decoder_states_inputs = [decoder_state_input_h, decoder_state_input_c]\n",
    "\n",
    "decoder_inputs_single = Input(shape=(1,), name='Decoder_input')\n",
    "x = embedding_decoder(decoder_inputs_single)\n",
    "\n",
    "# output, hidden states 를 저장\n",
    "decoder_outputs, h, c = decoder_lstm(x, initial_state=decoder_states_inputs)\n",
    "decoder_states = [h, c]\n",
    "\n",
    "decoder_outputs = decoder_dense(decoder_outputs)  \n",
    "\n",
    "decoder_model = Model(\n",
    "    [decoder_inputs_single] + decoder_states_inputs,    #decoder_model.predict([target_seq] + states_value)\n",
    "    [decoder_outputs] + decoder_states\n",
    ")\n",
    "\n",
    "decoder_model.summary()"
   ]
  },
  {
   "cell_type": "code",
   "execution_count": 27,
   "metadata": {
    "colab": {
     "base_uri": "https://localhost:8080/",
     "height": 382
    },
    "id": "aClaYIzf0yns",
    "outputId": "530c289a-8eea-4ebc-de86-128df80c2932"
   },
   "outputs": [
    {
     "data": {
      "image/png": "[encoded data removed]",
      "text/plain": [
       "<IPython.core.display.Image object>"
      ]
     },
     "execution_count": 27,
     "metadata": {},
     "output_type": "execute_result"
    }
   ],
   "source": [
    "plot_model(decoder_model, show_shapes=True)"
   ]
  },
  {
   "cell_type": "markdown",
   "metadata": {
    "id": "OS_0Zqpo-32_"
   },
   "source": [
    "### 다음의 inference module 작성\n",
    "- question 을 encoder 에 입력하여 thought vector 반환\n",
    "- start token 설정 \n",
    "- 가장 확률 높은 next word 선택\n",
    "- end token 생성 될 때까지 반복\n",
    "- predict 결과가 sequence 로 반환되므로 index 를 word 로 변환"
   ]
  },
  {
   "cell_type": "code",
   "execution_count": 28,
   "metadata": {
    "id": "6i4yEvRC-zFg"
   },
   "outputs": [],
   "source": [
    "def decode_sequence(input_seq):\n",
    "   # 입력된 질문을 encoder 에 입력하여 state vector 생성\n",
    "    states_value = encoder_model.predict(input_seq)\n",
    "    # size 1 짜리 빈 target sequence 생성\n",
    "    target_seq = np.zeros((1, 1))\n",
    "    # target sequence 의 첫번째 character 를 <s> 로 assign -> 1\n",
    "    target_seq[0, 0] = 1\n",
    "    eos = 2  #</s>\n",
    "\n",
    "    # 답변 생성 시작\n",
    "    output_ids = []\n",
    "    for _ in range(max_len_A):\n",
    "        output_tokens, h, c = decoder_model.predict([target_seq] + states_value)\n",
    "\n",
    "       # argmax 로 가장 확률 높은 단어 선택 --> greedy selection\n",
    "        idx = np.argmax(output_tokens[0, 0, :])\n",
    "\n",
    "        if eos == idx:  # End sentence of EOS\n",
    "            break\n",
    "\n",
    "        if idx > 0:      # idx 0 은 zero padding 이므로 skip\n",
    "            output_ids.append(int(idx))\n",
    "\n",
    "        # 생성된 word 를 decoder 의 다음 input 으로 사용\n",
    "        target_seq[0, 0] = idx\n",
    "        # Update states\n",
    "        states_value = [h, c]\n",
    "\n",
    "    return output_ids"
   ]
  },
  {
   "cell_type": "markdown",
   "metadata": {
    "id": "0tbXK6zjCBv8"
   },
   "source": [
    "- sample Q & A test"
   ]
  },
  {
   "cell_type": "code",
   "execution_count": 29,
   "metadata": {
    "colab": {
     "base_uri": "https://localhost:8080/"
    },
    "id": "EaVj30TGB-ny",
    "outputId": "ecdb6ce5-90e6-4f90-beba-120b84c715b8"
   },
   "outputs": [
    {
     "name": "stdout",
     "output_type": "stream",
     "text": [
      "-\n",
      "질문 : 너무 힘드네\n",
      "답변 : 잘 지내고 있을 거예요.\n",
      "-\n",
      "질문 : 지친다\n",
      "답변 : 지금도 늦지 않았어요.\n",
      "-\n",
      "질문 : 짝남 관련 악몽을 꿔.\n",
      "답변 : 잘했어요.\n",
      "-\n",
      "질문 : 썸남한테 먼저 연락해도 될까?\n",
      "답변 : 서로의 것보다 사랑명 술 잘하는 걸한 것 같아요.\n",
      "-\n",
      "질문 : 전 너무 이기적인데 저를 좋아해줘요.\n",
      "답변 : 자신을 쓰세요.\n"
     ]
    }
   ],
   "source": [
    "sp.Load(f'{prefix}.model')\n",
    "\n",
    "for _ in range(5):\n",
    "    i = np.random.choice(len(Q_texts))\n",
    "    input_seq = encoder_inputs[i:i+1]\n",
    "    response = decode_sequence(input_seq)\n",
    "    print('-')\n",
    "    print('질문 :', Q_texts[i])\n",
    "    print('답변 :', sp.DecodeIds(response))"
   ]
  },
  {
   "cell_type": "code",
   "execution_count": 30,
   "metadata": {
    "colab": {
     "base_uri": "https://localhost:8080/"
    },
    "id": "CWrUaHuZlsg6",
    "outputId": "7108c80e-8602-4c6c-ea8b-3c26bb88b592",
    "scrolled": true
   },
   "outputs": [
    {
     "name": "stdout",
     "output_type": "stream",
     "text": [
      "-\n",
      "질문 정말 미워\n",
      "답변: 서로 다르게 태어난 이유는 저는 사람을 친구로 생각해보세요.\n"
     ]
    }
   ],
   "source": [
    "txt = \"정말 미워\"\n",
    "input_sequence = sp.encode_as_ids(txt)\n",
    "encoder_input = pad_sequences([input_sequence], maxlen=MAX_LEN)\n",
    "\n",
    "response = decode_sequence(encoder_input)\n",
    "print('-')\n",
    "print('질문', txt)\n",
    "print('답변:', sp.DecodeIds(response))"
   ]
  },
  {
   "cell_type": "code",
   "execution_count": 31,
   "metadata": {
    "colab": {
     "base_uri": "https://localhost:8080/"
    },
    "id": "M0EdrUH8lsg8",
    "outputId": "ed6c8aec-8c2f-40e9-cf19-de6f8c9ba9cb"
   },
   "outputs": [
    {
     "name": "stdout",
     "output_type": "stream",
     "text": [
      "챗봇 대화 시작 .....\n",
      "질문 :오늘 날씨 어때?\n",
      "답변 : 서로 데이트를 붙여보세요.\n",
      "질문 :quit!\n",
      "답변 : 저도 잘 살 거예요.\n",
      "질문 :quit\n"
     ]
    }
   ],
   "source": [
    "print(\"챗봇 대화 시작 .....\")\n",
    "\n",
    "while True:\n",
    "    txt = input(\"질문 :\")\n",
    "    if txt.lower() == \"quit\":\n",
    "        break\n",
    "    \n",
    "    input_sequence = sp.encode_as_ids(txt)\n",
    "    encoder_input = pad_sequences([input_sequence], maxlen=MAX_LEN)\n",
    "\n",
    "    answer = decode_sequence(encoder_input)\n",
    "\n",
    "    print(\"답변 :\", sp.DecodeIds(answer))"
   ]
  }
 ],
 "metadata": {
  "accelerator": "GPU",
  "colab": {
   "name": "120_ChatBot_encoder_decoder_sentencepiece.ipynb",
   "provenance": []
  },
  "kernelspec": {
   "display_name": "Python 3",
   "language": "python",
   "name": "python3"
  },
  "language_info": {
   "codemirror_mode": {
    "name": "ipython",
    "version": 3
   },
   "file_extension": ".py",
   "mimetype": "text/x-python",
   "name": "python",
   "nbconvert_exporter": "python",
   "pygments_lexer": "ipython3",
   "version": "3.9.7"
  }
 },
 "nbformat": 4,
 "nbformat_minor": 1
}
